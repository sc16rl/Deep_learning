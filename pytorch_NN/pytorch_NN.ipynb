{
 "cells": [
  {
   "cell_type": "code",
   "execution_count": 2,
   "metadata": {},
   "outputs": [],
   "source": [
    "# !wget -nc \"http://labfile.oss.aliyuncs.com/courses/1081/MNIST.zip\"\n",
    "# !unzip -o \"MNIST.zip\""
   ]
  },
  {
   "cell_type": "code",
   "execution_count": 1,
   "metadata": {
    "ExecuteTime": {
     "end_time": "2020-02-12T20:12:33.956696Z",
     "start_time": "2020-02-12T20:12:33.008906Z"
    }
   },
   "outputs": [],
   "source": [
    "# Transform numpy array to pytorch tensor\n",
    "import torchvision\n",
    "\n",
    "# Training data, train=True，60000 items\n",
    "train = torchvision.datasets.MNIST(\n",
    "    root='.', train=True, transform=torchvision.transforms.ToTensor(), download=True)\n",
    "# Test data ， train=False， 10000 items\n",
    "test = torchvision.datasets.MNIST(\n",
    "    root='.', train=False, transform=torchvision.transforms.ToTensor(), download=True)"
   ]
  },
  {
   "cell_type": "code",
   "execution_count": 2,
   "metadata": {
    "ExecuteTime": {
     "end_time": "2020-02-12T20:12:38.491922Z",
     "start_time": "2020-02-12T20:12:38.484518Z"
    }
   },
   "outputs": [
    {
     "data": {
      "text/plain": [
       "(torch.Size([60000, 28, 28]),\n",
       " torch.Size([60000]),\n",
       " torch.Size([10000, 28, 28]),\n",
       " torch.Size([10000]))"
      ]
     },
     "execution_count": 2,
     "metadata": {},
     "output_type": "execute_result"
    }
   ],
   "source": [
    "train.data.shape, train.targets.shape, test.data.shape, test.targets.shape"
   ]
  },
  {
   "cell_type": "code",
   "execution_count": 3,
   "metadata": {
    "ExecuteTime": {
     "end_time": "2020-02-12T20:12:38.659573Z",
     "start_time": "2020-02-12T20:12:38.654544Z"
    }
   },
   "outputs": [
    {
     "data": {
      "text/plain": [
       "(<torch.utils.data.dataloader.DataLoader at 0x11dc6bdd0>,\n",
       " <torch.utils.data.dataloader.DataLoader at 0x11dc6be10>)"
      ]
     },
     "execution_count": 3,
     "metadata": {},
     "output_type": "execute_result"
    }
   ],
   "source": [
    "import torch\n",
    "\n",
    "train_loader = torch.utils.data.DataLoader(dataset=train, batch_size=64, shuffle=True)\n",
    "test_loader = torch.utils.data.DataLoader(dataset=test,batch_size=64, shuffle=False)\n",
    "\n",
    "train_loader, test_loader"
   ]
  },
  {
   "cell_type": "markdown",
   "metadata": {},
   "source": [
    "### 传统方法建模"
   ]
  },
  {
   "cell_type": "markdown",
   "metadata": {},
   "source": [
    "Input（784） → Fully connected layer 1 （784, 512）→ Fully connected layer 2 （512, 128）→ output（10）"
   ]
  },
  {
   "cell_type": "code",
   "execution_count": 4,
   "metadata": {
    "ExecuteTime": {
     "end_time": "2020-02-12T20:12:38.905139Z",
     "start_time": "2020-02-12T20:12:38.898762Z"
    }
   },
   "outputs": [],
   "source": [
    "import torch.nn as nn\n",
    "import torch.nn.functional as F\n",
    "\n",
    "class Net(nn.Module):\n",
    "    def __init__(self):\n",
    "        super(Net, self).__init__()\n",
    "        self.fc1 = nn.Linear(784, 512)\n",
    "        self.fc2 = nn.Linear(512, 128)\n",
    "        self.fc3 = nn.Linear(128, 10)\n",
    "    \n",
    "    def forward(self,x):\n",
    "        x = F.relu(self.fc1(x))\n",
    "        x = F.relu(self.fc2(x))\n",
    "        x = self.fc3(x)\n",
    "        return x"
   ]
  },
  {
   "cell_type": "code",
   "execution_count": 5,
   "metadata": {
    "ExecuteTime": {
     "end_time": "2020-02-12T20:12:39.033875Z",
     "start_time": "2020-02-12T20:12:39.026635Z"
    }
   },
   "outputs": [
    {
     "data": {
      "text/plain": [
       "Net(\n",
       "  (fc1): Linear(in_features=784, out_features=512, bias=True)\n",
       "  (fc2): Linear(in_features=512, out_features=128, bias=True)\n",
       "  (fc3): Linear(in_features=128, out_features=10, bias=True)\n",
       ")"
      ]
     },
     "execution_count": 5,
     "metadata": {},
     "output_type": "execute_result"
    }
   ],
   "source": [
    "## Create model \n",
    "model = Net()\n",
    "model"
   ]
  },
  {
   "cell_type": "code",
   "execution_count": 6,
   "metadata": {
    "ExecuteTime": {
     "end_time": "2020-02-12T20:12:39.147739Z",
     "start_time": "2020-02-12T20:12:39.144804Z"
    }
   },
   "outputs": [],
   "source": [
    "## Loss function and Optimizer\n",
    "loss_fn = nn.CrossEntropyLoss()\n",
    "opt = torch.optim.Adam(model.parameters(), lr=0.002)"
   ]
  },
  {
   "cell_type": "code",
   "execution_count": 7,
   "metadata": {
    "ExecuteTime": {
     "end_time": "2020-02-12T20:12:39.281902Z",
     "start_time": "2020-02-12T20:12:39.274610Z"
    }
   },
   "outputs": [],
   "source": [
    "def fit(epochs, model, opt):\n",
    "    for epoch in range(epochs):\n",
    "        for i, (images, labels) in enumerate(train_loader):\n",
    "            images = images.reshape(-1, 28*28)\n",
    "            labels = labels\n",
    "            outpus = model(images)\n",
    "            loss = loss_fn(outpus, labels)\n",
    "            opt.zero_grad()\n",
    "            loss.backward()\n",
    "            opt.step()\n",
    "            \n",
    "            if (i+1)%100 ==0:\n",
    "                print('Epoch [{}/{}], Batch [{}/{}], Train loss: {:.3f}'.format(epoch+1,\n",
    "                       epochs, i+1, len(train_loader), loss.item()))\n",
    "    \n",
    "        ## For every epoch, calculate the result\n",
    "        correct = 0\n",
    "        total = 0\n",
    "        for images, labels in test_loader:\n",
    "            images = images.reshape(-1, 28*28)\n",
    "            labels = labels\n",
    "            outputs = model(images)\n",
    "            # 得到输出最大值 _ 及其索引 predicted\n",
    "            _, predicted = torch.max(outputs.data ,1)\n",
    "            correct += (predicted == labels).sum().item()\n",
    "            total += labels.size(0)\n",
    "        print('============ Test accuracy: {:.3f} ============='.format(\n",
    "            correct / total))"
   ]
  },
  {
   "cell_type": "code",
   "execution_count": 8,
   "metadata": {
    "ExecuteTime": {
     "end_time": "2020-02-12T20:12:48.444231Z",
     "start_time": "2020-02-12T20:12:39.395897Z"
    }
   },
   "outputs": [
    {
     "name": "stdout",
     "output_type": "stream",
     "text": [
      "Epoch [1/1], Batch [100/938], Train loss: 0.384\n",
      "Epoch [1/1], Batch [200/938], Train loss: 0.226\n",
      "Epoch [1/1], Batch [300/938], Train loss: 0.175\n",
      "Epoch [1/1], Batch [400/938], Train loss: 0.348\n",
      "Epoch [1/1], Batch [500/938], Train loss: 0.280\n",
      "Epoch [1/1], Batch [600/938], Train loss: 0.049\n",
      "Epoch [1/1], Batch [700/938], Train loss: 0.105\n",
      "Epoch [1/1], Batch [800/938], Train loss: 0.035\n",
      "Epoch [1/1], Batch [900/938], Train loss: 0.108\n",
      "============ Test accuracy: 0.961 =============\n"
     ]
    }
   ],
   "source": [
    "fit(epochs=1, model=model, opt=opt)"
   ]
  },
  {
   "cell_type": "markdown",
   "metadata": {},
   "source": [
    "### Sequential 方法建模"
   ]
  },
  {
   "cell_type": "code",
   "execution_count": 12,
   "metadata": {
    "ExecuteTime": {
     "end_time": "2020-02-12T20:15:54.135429Z",
     "start_time": "2020-02-12T20:15:54.127535Z"
    }
   },
   "outputs": [
    {
     "data": {
      "text/plain": [
       "Sequential(\n",
       "  (0): Linear(in_features=784, out_features=512, bias=True)\n",
       "  (1): ReLU()\n",
       "  (2): Linear(in_features=512, out_features=128, bias=True)\n",
       "  (3): ReLU()\n",
       "  (4): Linear(in_features=128, out_features=10, bias=True)\n",
       ")"
      ]
     },
     "execution_count": 12,
     "metadata": {},
     "output_type": "execute_result"
    }
   ],
   "source": [
    "model_s = nn.Sequential(\n",
    "    nn.Linear(784, 512),\n",
    "    nn.ReLU(),\n",
    "    nn.Linear(512, 128),\n",
    "    nn.ReLU(),\n",
    "    nn.Linear(128, 10),\n",
    ")\n",
    "\n",
    "model_s"
   ]
  },
  {
   "cell_type": "code",
   "execution_count": 13,
   "metadata": {
    "ExecuteTime": {
     "end_time": "2020-02-12T20:16:13.119729Z",
     "start_time": "2020-02-12T20:16:04.234118Z"
    }
   },
   "outputs": [
    {
     "name": "stdout",
     "output_type": "stream",
     "text": [
      "Epoch [1/1], Batch [100/938], Train loss: 0.156\n",
      "Epoch [1/1], Batch [200/938], Train loss: 0.166\n",
      "Epoch [1/1], Batch [300/938], Train loss: 0.432\n",
      "Epoch [1/1], Batch [400/938], Train loss: 0.137\n",
      "Epoch [1/1], Batch [500/938], Train loss: 0.211\n",
      "Epoch [1/1], Batch [600/938], Train loss: 0.124\n",
      "Epoch [1/1], Batch [700/938], Train loss: 0.059\n",
      "Epoch [1/1], Batch [800/938], Train loss: 0.035\n",
      "Epoch [1/1], Batch [900/938], Train loss: 0.214\n",
      "============ Test accuracy: 0.960 =============\n"
     ]
    }
   ],
   "source": [
    "opt_s = torch.optim.Adam(model_s.parameters(), lr=0.002)  # Adam 优化器\n",
    "fit(epochs=1, model=model_s, opt=opt_s)  # 训"
   ]
  },
  {
   "cell_type": "code",
   "execution_count": null,
   "metadata": {},
   "outputs": [],
   "source": []
  }
 ],
 "metadata": {
  "kernelspec": {
   "display_name": "Python 3",
   "language": "python",
   "name": "python3"
  },
  "language_info": {
   "codemirror_mode": {
    "name": "ipython",
    "version": 3
   },
   "file_extension": ".py",
   "mimetype": "text/x-python",
   "name": "python",
   "nbconvert_exporter": "python",
   "pygments_lexer": "ipython3",
   "version": "3.7.4"
  },
  "toc": {
   "base_numbering": 1,
   "nav_menu": {},
   "number_sections": true,
   "sideBar": true,
   "skip_h1_title": false,
   "title_cell": "Table of Contents",
   "title_sidebar": "Contents",
   "toc_cell": false,
   "toc_position": {
    "height": "calc(100% - 180px)",
    "left": "10px",
    "top": "150px",
    "width": "288px"
   },
   "toc_section_display": true,
   "toc_window_display": false
  }
 },
 "nbformat": 4,
 "nbformat_minor": 2
}
